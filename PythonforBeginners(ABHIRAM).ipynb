{
  "nbformat": 4,
  "nbformat_minor": 0,
  "metadata": {
    "colab": {
      "name": "PythonforBeginners(ABHIRAM).ipynb",
      "provenance": [],
      "collapsed_sections": [],
      "authorship_tag": "ABX9TyP3GQ9io6jkIp+s88X7wcW7",
      "include_colab_link": true
    },
    "kernelspec": {
      "name": "python3",
      "display_name": "Python 3"
    },
    "language_info": {
      "name": "python"
    }
  },
  "cells": [
    {
      "cell_type": "markdown",
      "metadata": {
        "id": "view-in-github",
        "colab_type": "text"
      },
      "source": [
        "<a href=\"https://colab.research.google.com/github/ABHIRAM2003ML/Assignment-Submission-Demo/blob/main/PythonforBeginners(ABHIRAM).ipynb\" target=\"_parent\"><img src=\"https://colab.research.google.com/assets/colab-badge.svg\" alt=\"Open In Colab\"/></a>"
      ]
    },
    {
      "cell_type": "markdown",
      "metadata": {
        "id": "ARBG5nMeIp5i"
      },
      "source": [
        "# ASSIGNMENT FOR DAY 1 [ 28th JUNE ]"
      ]
    },
    {
      "cell_type": "code",
      "metadata": {
        "colab": {
          "base_uri": "https://localhost:8080/"
        },
        "id": "CMinBrGvDvaS",
        "outputId": "83a6bec5-2d7b-4e95-8a8d-8a3d808bb5e3"
      },
      "source": [
        "print(\" * CALUCULATOR * \")\n",
        "\n",
        "print(\" ADDITION OF TWO DIGITS \")\n",
        "\n",
        "print(\"\\nEnter any two numbers whose sum you want:\")\n",
        "a=int(input(\"Enter the 1st number:\"))\n",
        "b=int(input(\"Enter the 2nd number:\"))\n",
        "\n",
        "sum=a+b\n",
        "\n",
        "print( \"\\nYour sum is: \",sum )\n",
        "\n",
        "print(\" SUBTRACTION OF TWO DIGITS \")\n",
        "\n",
        "print(\"Enter any two numbers for subtraction:\")\n",
        "c=int(input(\"\\n Enter the 1st number:\"))\n",
        "d=int(input(\"Enter the 2nd number:\"))\n",
        "\n",
        "sub=c-d\n",
        "sub1=d-c\n",
        "\n",
        "print( \"\\n Subtraction is : \",sub,\"Reverse Subtraction of it is:\",sub1)\n",
        "\n",
        "print(\" MULTIPLICATION OF TWO DIGITS \")\n",
        "\n",
        "print(\"\\n Enter two number for multiplication:\")\n",
        "e=int(input(\"Enter the 1st number:\"))\n",
        "f=int(input(\"Enter the 2nd number:\"))\n",
        "\n",
        "mul=e*f\n",
        "\n",
        "print( \"\\n Multiplication is: \",mul)\n",
        "\n",
        "print(\" DIVISION OF TWO DIGITS \")\n",
        "\n",
        "print(\"\\nEnter two number for division:\")\n",
        "g=int(input(\"Enter the 1st number:\"))\n",
        "h=int(input(\"Enter the 2nd number:\"))\n",
        "\n",
        "div=g/h\n",
        "div1=h/g\n",
        "\n",
        "print(\"\\n Division is: \",div,\"Reverse Division of it is:\",div1)"
      ],
      "execution_count": null,
      "outputs": [
        {
          "output_type": "stream",
          "text": [
            " * CALUCULATOR * \n",
            " ADDITION OF TWO DIGITS \n",
            "\n",
            "Enter any two numbers whose sum you want:\n",
            "Enter the 1st number:11\n",
            "Enter the 2nd number:12\n",
            "\n",
            "Your sum is:  23\n",
            " SUBTRACTION OF TWO DIGITS \n",
            "Enter any two numbers for subtraction:\n",
            "\n",
            " Enter the 1st number:11\n",
            "Enter the 2nd number:22\n",
            "\n",
            " Subtraction is :  -11 Reverse Subtraction of it is: 11\n",
            " MULTIPLICATION OF TWO DIGITS \n",
            "\n",
            " Enter two number for multiplication:\n",
            "Enter the 1st number:11\n",
            "Enter the 2nd number:2\n",
            "\n",
            " Multiplication is:  22\n",
            " DIVISION OF TWO DIGITS \n",
            "\n",
            "Enter two number for division:\n",
            "Enter the 1st number:2\n",
            "Enter the 2nd number:4\n",
            "\n",
            " Division is:  0.5 Reverse Division of it is: 2.0\n"
          ],
          "name": "stdout"
        }
      ]
    },
    {
      "cell_type": "markdown",
      "metadata": {
        "id": "EV4tKZuKqEYH"
      },
      "source": [
        "# ASSIGNMENT FOR DAY 2 [ 29th JUNE ]"
      ]
    },
    {
      "cell_type": "code",
      "metadata": {
        "id": "T8Rl_tATMMfX",
        "colab": {
          "base_uri": "https://localhost:8080/"
        },
        "outputId": "4809d3bb-2e1e-4b71-a22f-0f9ecb99f55c"
      },
      "source": [
        "print(\" * LOTTERY * \")\n",
        "\n",
        "Totalparticipants = 5\n",
        "\n",
        "a=input(\"Enter the 1st name for lottery: \")\n",
        "b=input(\"Enter the 2nd name for lottery: \")\n",
        "c=input(\"Enter the 3rd name for lottery: \")\n",
        "d=input(\"Enter the 4th name for lottery: \")\n",
        "e=input(\"Enter the 5th name for lottery: \")\n",
        "\n",
        "participants = (a,b,c,d,e)\n",
        "\n",
        "print(participants)\n",
        "\n",
        "import random\n",
        "\n",
        "n = random.randint(0,Totalparticipants-1)\n",
        "\n",
        "print( \"\\n Winner of the lottery is: \",participants[n])"
      ],
      "execution_count": null,
      "outputs": [
        {
          "output_type": "stream",
          "text": [
            " * LOTTERY * \n",
            "Enter the 1st name for lottery: abhi\n",
            "Enter the 2nd name for lottery: abhiram\n",
            "Enter the 3rd name for lottery: ajay\n",
            "Enter the 4th name for lottery: suresh\n",
            "Enter the 5th name for lottery: printing\n",
            "('abhi', 'abhiram', 'ajay', 'suresh', 'printing')\n",
            "\n",
            " Winner of the lottery is:  printing\n"
          ],
          "name": "stdout"
        }
      ]
    },
    {
      "cell_type": "code",
      "metadata": {
        "colab": {
          "base_uri": "https://localhost:8080/"
        },
        "id": "IHrZxMpeoy68",
        "outputId": "2902b960-0452-4946-8ca3-b0c88483162e"
      },
      "source": [
        "# IF FOR LOOP USED THEN DONT NEED TO WRITE MANY LINES OF SAME CODE\n",
        "\n",
        "print(\" * LOTTERY * \")\n",
        "\n",
        "Totalparticipants = 5\n",
        "\n",
        "for i in range(5):\n",
        "  input(\"Enter the name for lottery: \")\n",
        "\n",
        "participants = (a,b,c,d,e)\n",
        "\n",
        "print(participants)\n",
        "\n",
        "import random\n",
        "\n",
        "n = random.randint(0,Totalparticipants-1)\n",
        "\n",
        "print( \"\\n Winner of the lottery is: \",participants[n])  "
      ],
      "execution_count": null,
      "outputs": [
        {
          "output_type": "stream",
          "text": [
            " * LOTTERY * \n",
            "Enter the name for lottery: abhi\n",
            "Enter the name for lottery: abhiram\n",
            "Enter the name for lottery: ajay\n",
            "Enter the name for lottery: suresh\n",
            "Enter the name for lottery: printing\n",
            "('abhiram', 'ajay', 'jaya', 'abhi', 'abhiramprints')\n",
            "\n",
            " Winner of the lottery is:  abhi\n"
          ],
          "name": "stdout"
        }
      ]
    },
    {
      "cell_type": "markdown",
      "metadata": {
        "id": "MTMiHY-vrcno"
      },
      "source": [
        "# ASSIGNMENT FOR DAY 3 [ 30th JUNE ]"
      ]
    },
    {
      "cell_type": "code",
      "metadata": {
        "id": "MDTb7Bd_rbvo"
      },
      "source": [
        "# LEARNT ABOUT THE INBUILT FUNCTIONS."
      ],
      "execution_count": null,
      "outputs": []
    },
    {
      "cell_type": "markdown",
      "metadata": {
        "id": "9GCqUaoOwc0m"
      },
      "source": [
        "# ASSIGNMENT FOR DAY 4 [ 1st JULY ]"
      ]
    },
    {
      "cell_type": "code",
      "metadata": {
        "colab": {
          "base_uri": "https://localhost:8080/"
        },
        "id": "W0Bsg9JOwb1K",
        "outputId": "84c058cb-f97a-40fe-8d74-1176741c3a37"
      },
      "source": [
        "print(\" * LANDING OF PLANE BY PILOT * \")\n",
        "\n",
        "condition = int(input(\"Enter the Altitude of the plane - \"))\n",
        "\n",
        "if condition <= 1000:\n",
        "  print(\"It is safe to land the plane,pilot as it is at\",condition,\"ft\")\n",
        "\n",
        "elif condition > 1000 and condition <= 5000:\n",
        "  print(\"Please bring the plane down to 1000ft,pilot as it is at\",condition,\"ft\")\n",
        "\n",
        "else:\n",
        "  print(\"Please go and turn around or try later to land the plane,pilot as it is at\",condition,\"ft\")     "
      ],
      "execution_count": null,
      "outputs": [
        {
          "output_type": "stream",
          "text": [
            " * LANDING OF PLANE BY PILOT * \n",
            "Enter the Altitude of the plane2000\n",
            "Please bring the plane down to 1000ft,pilot as it is at 2000 ft\n"
          ],
          "name": "stdout"
        }
      ]
    },
    {
      "cell_type": "markdown",
      "metadata": {
        "id": "XVpblFoEzwh_"
      },
      "source": [
        "# ASSIGNMENT FOR DAY 5 [ 2nd JULY ]"
      ]
    },
    {
      "cell_type": "code",
      "metadata": {
        "id": "Ps_aeybFz8ue",
        "colab": {
          "base_uri": "https://localhost:8080/"
        },
        "outputId": "046f0dd6-1357-4958-e5ee-d19bb809ac7c"
      },
      "source": [
        "print(\" * FINDING WHETHER THE NUMBER IS A PRIME OR COMPOSITE NUMBER  * \")\n",
        "\n",
        "num=int(input(\"Please enter your number - \"))\n",
        "\n",
        "prime = 1\n",
        "for i in range(2,num):\n",
        "  if num % i == 0:\n",
        "    prime = 0;\n",
        "if prime == 0:\n",
        "    print(\"This is a Composite number\")  \n",
        "else:\n",
        "    print(\"This is a Prime number\") "
      ],
      "execution_count": null,
      "outputs": [
        {
          "output_type": "stream",
          "text": [
            " * FINDING WHETHER THE NUMBER IS A PRIME OR COMPOSITE NUMBER  * \n",
            "Please enter your number - 2\n",
            "This is a Prime number\n"
          ],
          "name": "stdout"
        }
      ]
    },
    {
      "cell_type": "markdown",
      "metadata": {
        "id": "J5bw0w0yNVFD"
      },
      "source": [
        "# ASSIGNMENT FOR DAY 6 [ 3rd JULY ]"
      ]
    },
    {
      "cell_type": "code",
      "metadata": {
        "colab": {
          "base_uri": "https://localhost:8080/",
          "height": 248
        },
        "id": "8Rimi15tNUSv",
        "outputId": "c28827cb-92ce-4fbf-dd01-c2aaee31d751"
      },
      "source": [
        "%pip install pytube\n",
        "\n",
        "from pytube import YouTube\n",
        "\n",
        "yt = YouTube()\n",
        "\n",
        "yt.url = \"http://www.youtube.com/watch?v=Ik-RsDGPI5Y\"\n",
        "\n",
        "pprint(yt.videos)\n",
        "\n",
        "print (yt.filename)\n",
        "\n",
        "yt.filename = 'Dancing Scene from Pulp Fiction'\n",
        "\n",
        "pprint(yt.filter('flv'))\n",
        "\n",
        "pprint(yt.filter(res='480p'))\n",
        "\n",
        "video = yt.get('mp4', '720p')\n",
        "\n",
        "pprint(yt.videos)\n",
        "\n",
        "video = yt.get('mp4')\n",
        "\n",
        "video.download()\n",
        "\n",
        "video.download('/tmp/')\n",
        "\n",
        "# DONE AS PYTHON TKINTER BUT SHOWING BUGS"
      ],
      "execution_count": null,
      "outputs": [
        {
          "output_type": "stream",
          "text": [
            "Requirement already satisfied: pytube in /usr/local/lib/python3.7/dist-packages (10.8.5)\n"
          ],
          "name": "stdout"
        },
        {
          "output_type": "error",
          "ename": "TypeError",
          "evalue": "ignored",
          "traceback": [
            "\u001b[0;31m---------------------------------------------------------------------------\u001b[0m",
            "\u001b[0;31mTypeError\u001b[0m                                 Traceback (most recent call last)",
            "\u001b[0;32m<ipython-input-19-9c17d63fd5fe>\u001b[0m in \u001b[0;36m<module>\u001b[0;34m()\u001b[0m\n\u001b[1;32m      6\u001b[0m \u001b[0;32mfrom\u001b[0m \u001b[0mpprint\u001b[0m \u001b[0;32mimport\u001b[0m \u001b[0mpprint\u001b[0m\u001b[0;34m\u001b[0m\u001b[0;34m\u001b[0m\u001b[0m\n\u001b[1;32m      7\u001b[0m \u001b[0;34m\u001b[0m\u001b[0m\n\u001b[0;32m----> 8\u001b[0;31m \u001b[0myt\u001b[0m \u001b[0;34m=\u001b[0m \u001b[0mYouTube\u001b[0m\u001b[0;34m(\u001b[0m\u001b[0;34m)\u001b[0m\u001b[0;34m\u001b[0m\u001b[0;34m\u001b[0m\u001b[0m\n\u001b[0m\u001b[1;32m      9\u001b[0m \u001b[0;34m\u001b[0m\u001b[0m\n\u001b[1;32m     10\u001b[0m \u001b[0;31m# Set the video URL.\u001b[0m\u001b[0;34m\u001b[0m\u001b[0;34m\u001b[0m\u001b[0;34m\u001b[0m\u001b[0m\n",
            "\u001b[0;31mTypeError\u001b[0m: __init__() missing 1 required positional argument: 'url'"
          ]
        }
      ]
    },
    {
      "cell_type": "code",
      "metadata": {
        "colab": {
          "base_uri": "https://localhost:8080/",
          "height": 231
        },
        "id": "n89ZGSZTQZWs",
        "outputId": "b24ef026-8958-4f2b-d669-9f94b3695edf"
      },
      "source": [
        "from pytube import YouTube\n",
        "YouTube('https://youtu.be/2lAe1cqCOXo').streams.first().download()\n",
        "yt = YouTube('http://youtube.com/watch?v=2lAe1cqCOXo')\n",
        "yt.streams\n",
        "yt.filter(progressive=True, file_extension='mp4')\n",
        "yt.order_by('resolution')\n",
        "yt.desc()\n",
        "yt.first()\n",
        "yt.download()\n",
        "\n",
        "# WRONG CODE OR BUGS HAD ARRISED"
      ],
      "execution_count": null,
      "outputs": [
        {
          "output_type": "error",
          "ename": "AttributeError",
          "evalue": "ignored",
          "traceback": [
            "\u001b[0;31m---------------------------------------------------------------------------\u001b[0m",
            "\u001b[0;31mAttributeError\u001b[0m                            Traceback (most recent call last)",
            "\u001b[0;32m<ipython-input-32-c2e8a7a5d7a1>\u001b[0m in \u001b[0;36m<module>\u001b[0;34m()\u001b[0m\n\u001b[1;32m      3\u001b[0m \u001b[0myt\u001b[0m \u001b[0;34m=\u001b[0m \u001b[0mYouTube\u001b[0m\u001b[0;34m(\u001b[0m\u001b[0;34m'http://youtube.com/watch?v=2lAe1cqCOXo'\u001b[0m\u001b[0;34m)\u001b[0m\u001b[0;34m\u001b[0m\u001b[0;34m\u001b[0m\u001b[0m\n\u001b[1;32m      4\u001b[0m \u001b[0myt\u001b[0m\u001b[0;34m.\u001b[0m\u001b[0mstreams\u001b[0m\u001b[0;34m\u001b[0m\u001b[0;34m\u001b[0m\u001b[0m\n\u001b[0;32m----> 5\u001b[0;31m \u001b[0myt\u001b[0m\u001b[0;34m.\u001b[0m\u001b[0mfilter\u001b[0m\u001b[0;34m(\u001b[0m\u001b[0mprogressive\u001b[0m\u001b[0;34m=\u001b[0m\u001b[0;32mTrue\u001b[0m\u001b[0;34m,\u001b[0m \u001b[0mfile_extension\u001b[0m\u001b[0;34m=\u001b[0m\u001b[0;34m'mp4'\u001b[0m\u001b[0;34m)\u001b[0m\u001b[0;34m\u001b[0m\u001b[0;34m\u001b[0m\u001b[0m\n\u001b[0m\u001b[1;32m      6\u001b[0m \u001b[0myt\u001b[0m\u001b[0;34m.\u001b[0m\u001b[0morder_by\u001b[0m\u001b[0;34m(\u001b[0m\u001b[0;34m'resolution'\u001b[0m\u001b[0;34m)\u001b[0m\u001b[0;34m\u001b[0m\u001b[0;34m\u001b[0m\u001b[0m\n\u001b[1;32m      7\u001b[0m \u001b[0myt\u001b[0m\u001b[0;34m.\u001b[0m\u001b[0mdesc\u001b[0m\u001b[0;34m(\u001b[0m\u001b[0;34m)\u001b[0m\u001b[0;34m\u001b[0m\u001b[0;34m\u001b[0m\u001b[0m\n",
            "\u001b[0;31mAttributeError\u001b[0m: 'YouTube' object has no attribute 'filter'"
          ]
        }
      ]
    },
    {
      "cell_type": "code",
      "metadata": {
        "colab": {
          "base_uri": "https://localhost:8080/",
          "height": 52
        },
        "id": "rDmTo1XvVS3o",
        "outputId": "9fae2100-2014-4fba-e2dd-979606831522"
      },
      "source": [
        "print(\" * YOUTUBE DOWNLOADER APP * \")\n",
        "\n",
        "import pytube\n",
        "\n",
        "link = \"https://www.youtube.com/watch?v=Fl8NoAxAuQk\"\n",
        "\n",
        "yt = pytube.YouTube(link)\n",
        "\n",
        "stream = yt.streams.first()\n",
        "stream.download()\n",
        "\n",
        "print(\"Download is completed\")\n",
        "\n",
        "# SUCCESSFULLY COMPLETED MY CODE WITH SOME TIME AND HARDWORK"
      ],
      "execution_count": null,
      "outputs": [
        {
          "output_type": "stream",
          "text": [
            " * YOUTUBE DOWNLOADER APP * \n"
          ],
          "name": "stdout"
        },
        {
          "output_type": "execute_result",
          "data": {
            "application/vnd.google.colaboratory.intrinsic+json": {
              "type": "string"
            },
            "text/plain": [
              "'/content/Python for Beginners Essentials Program  Day 5  LetsUpgrade.mp4'"
            ]
          },
          "metadata": {
            "tags": []
          },
          "execution_count": 30
        }
      ]
    },
    {
      "cell_type": "code",
      "metadata": {
        "id": "HQoazcgEXAeY"
      },
      "source": [
        "https://www.youtube.com/watch?v=Fl8NoAxAuQk\n",
        "https://www.youtube.com/watch?v=mpjREfvZiDs"
      ],
      "execution_count": null,
      "outputs": []
    },
    {
      "cell_type": "markdown",
      "metadata": {
        "id": "P4QELv9mFfeY"
      },
      "source": [
        "# ASSIGNMENT FOR DAY 3 [ 30th JUNE ]"
      ]
    },
    {
      "cell_type": "code",
      "metadata": {
        "colab": {
          "base_uri": "https://localhost:8080/",
          "height": 367
        },
        "id": "RyInYmU-Fhbu",
        "outputId": "d5d6ad8e-8aa1-4ef4-c7e4-121274e97562"
      },
      "source": [
        "# MODULES\n",
        "import pygame, sys\n",
        "import numpy as np\n",
        "\n",
        "# initializes pygame\n",
        "pygame.init()\n",
        "\n",
        "# ---------\n",
        "# CONSTANTS\n",
        "# ---------\n",
        "WIDTH = 600\n",
        "HEIGHT = 600\n",
        "LINE_WIDTH = 15\n",
        "WIN_LINE_WIDTH = 15\n",
        "BOARD_ROWS = 3\n",
        "BOARD_COLS = 3\n",
        "SQUARE_SIZE = 200\n",
        "CIRCLE_RADIUS = 60\n",
        "CIRCLE_WIDTH = 15\n",
        "CROSS_WIDTH = 25\n",
        "SPACE = 55\n",
        "# rgb: red green blue\n",
        "RED = (255, 0, 0)\n",
        "BG_COLOR = (28, 170, 156)\n",
        "LINE_COLOR = (23, 145, 135)\n",
        "CIRCLE_COLOR = (239, 231, 200)\n",
        "CROSS_COLOR = (66, 66, 66)\n",
        "\n",
        "# ------\n",
        "# SCREEN\n",
        "# ------\n",
        "screen = pygame.display.set_mode( (WIDTH, HEIGHT) )\n",
        "pygame.display.set_caption( 'TIC TAC TOE' )\n",
        "screen.fill( BG_COLOR )\n",
        "\n",
        "# -------------\n",
        "# CONSOLE BOARD\n",
        "# -------------\n",
        "board = np.zeros( (BOARD_ROWS, BOARD_COLS) )\n",
        "\n",
        "# ---------\n",
        "# FUNCTIONS\n",
        "# ---------\n",
        "def draw_lines():\n",
        "\t# 1 horizontal\n",
        "\tpygame.draw.line( screen, LINE_COLOR, (0, SQUARE_SIZE), (WIDTH, SQUARE_SIZE), LINE_WIDTH )\n",
        "\t# 2 horizontal\n",
        "\tpygame.draw.line( screen, LINE_COLOR, (0, 2 * SQUARE_SIZE), (WIDTH, 2 * SQUARE_SIZE), LINE_WIDTH )\n",
        "\n",
        "\t# 1 vertical\n",
        "\tpygame.draw.line( screen, LINE_COLOR, (SQUARE_SIZE, 0), (SQUARE_SIZE, HEIGHT), LINE_WIDTH )\n",
        "\t# 2 vertical\n",
        "\tpygame.draw.line( screen, LINE_COLOR, (2 * SQUARE_SIZE, 0), (2 * SQUARE_SIZE, HEIGHT), LINE_WIDTH )\n",
        "\n",
        "def draw_figures():\n",
        "\tfor row in range(BOARD_ROWS):\n",
        "\t\tfor col in range(BOARD_COLS):\n",
        "\t\t\tif board[row][col] == 1:\n",
        "\t\t\t\tpygame.draw.circle( screen, CIRCLE_COLOR, (int( col * SQUARE_SIZE + SQUARE_SIZE//2 ), int( row * SQUARE_SIZE + SQUARE_SIZE//2 )), CIRCLE_RADIUS, CIRCLE_WIDTH )\n",
        "\t\t\telif board[row][col] == 2:\n",
        "\t\t\t\tpygame.draw.line( screen, CROSS_COLOR, (col * SQUARE_SIZE + SPACE, row * SQUARE_SIZE + SQUARE_SIZE - SPACE), (col * SQUARE_SIZE + SQUARE_SIZE - SPACE, row * SQUARE_SIZE + SPACE), CROSS_WIDTH )\t\n",
        "\t\t\t\tpygame.draw.line( screen, CROSS_COLOR, (col * SQUARE_SIZE + SPACE, row * SQUARE_SIZE + SPACE), (col * SQUARE_SIZE + SQUARE_SIZE - SPACE, row * SQUARE_SIZE + SQUARE_SIZE - SPACE), CROSS_WIDTH )\n",
        "\n",
        "def mark_square(row, col, player):\n",
        "\tboard[row][col] = player\n",
        "\n",
        "def available_square(row, col):\n",
        "\treturn board[row][col] == 0\n",
        "\n",
        "def is_board_full():\n",
        "\tfor row in range(BOARD_ROWS):\n",
        "\t\tfor col in range(BOARD_COLS):\n",
        "\t\t\tif board[row][col] == 0:\n",
        "\t\t\t\treturn False\n",
        "\n",
        "\treturn True\n",
        "\n",
        "def check_win(player):\n",
        "\t# vertical win check\n",
        "\tfor col in range(BOARD_COLS):\n",
        "\t\tif board[0][col] == player and board[1][col] == player and board[2][col] == player:\n",
        "\t\t\tdraw_vertical_winning_line(col, player)\n",
        "\t\t\treturn True\n",
        "\n",
        "\t# horizontal win check\n",
        "\tfor row in range(BOARD_ROWS):\n",
        "\t\tif board[row][0] == player and board[row][1] == player and board[row][2] == player:\n",
        "\t\t\tdraw_horizontal_winning_line(row, player)\n",
        "\t\t\treturn True\n",
        "\n",
        "\t# asc diagonal win check\n",
        "\tif board[2][0] == player and board[1][1] == player and board[0][2] == player:\n",
        "\t\tdraw_asc_diagonal(player)\n",
        "\t\treturn True\n",
        "\n",
        "\t# desc diagonal win chek\n",
        "\tif board[0][0] == player and board[1][1] == player and board[2][2] == player:\n",
        "\t\tdraw_desc_diagonal(player)\n",
        "\t\treturn True\n",
        "\n",
        "\treturn False\n",
        "\n",
        "def draw_vertical_winning_line(col, player):\n",
        "\tposX = col * SQUARE_SIZE + SQUARE_SIZE//2\n",
        "\n",
        "\tif player == 1:\n",
        "\t\tcolor = CIRCLE_COLOR\n",
        "\telif player == 2:\n",
        "\t\tcolor = CROSS_COLOR\n",
        "\n",
        "\tpygame.draw.line( screen, color, (posX, 15), (posX, HEIGHT - 15), LINE_WIDTH )\n",
        "\n",
        "def draw_horizontal_winning_line(row, player):\n",
        "\tposY = row * SQUARE_SIZE + SQUARE_SIZE//2\n",
        "\n",
        "\tif player == 1:\n",
        "\t\tcolor = CIRCLE_COLOR\n",
        "\telif player == 2:\n",
        "\t\tcolor = CROSS_COLOR\n",
        "\n",
        "\tpygame.draw.line( screen, color, (15, posY), (WIDTH - 15, posY), WIN_LINE_WIDTH )\n",
        "\n",
        "def draw_asc_diagonal(player):\n",
        "\tif player == 1:\n",
        "\t\tcolor = CIRCLE_COLOR\n",
        "\telif player == 2:\n",
        "\t\tcolor = CROSS_COLOR\n",
        "\n",
        "\tpygame.draw.line( screen, color, (15, HEIGHT - 15), (WIDTH - 15, 15), WIN_LINE_WIDTH )\n",
        "\n",
        "def draw_desc_diagonal(player):\n",
        "\tif player == 1:\n",
        "\t\tcolor = CIRCLE_COLOR\n",
        "\telif player == 2:\n",
        "\t\tcolor = CROSS_COLOR\n",
        "\n",
        "\tpygame.draw.line( screen, color, (15, 15), (WIDTH - 15, HEIGHT - 15), WIN_LINE_WIDTH )\n",
        "\n",
        "def restart():\n",
        "\tscreen.fill( BG_COLOR )\n",
        "\tdraw_lines()\n",
        "\tfor row in range(BOARD_ROWS):\n",
        "\t\tfor col in range(BOARD_COLS):\n",
        "\t\t\tboard[row][col] = 0\n",
        "\n",
        "draw_lines()\n",
        "\n",
        "# ---------\n",
        "# VARIABLES\n",
        "# ---------\n",
        "player = 1\n",
        "game_over = False\n",
        "\n",
        "# --------\n",
        "# MAINLOOP\n",
        "# --------\n",
        "while True:\n",
        "\tfor event in pygame.event.get():\n",
        "\t\tif event.type == pygame.QUIT:\n",
        "\t\t\tsys.exit()\n",
        "\n",
        "\t\tif event.type == pygame.MOUSEBUTTONDOWN and not game_over:\n",
        "\n",
        "\t\t\tmouseX = event.pos[0] # x\n",
        "\t\t\tmouseY = event.pos[1] # y\n",
        "\n",
        "\t\t\tclicked_row = int(mouseY // SQUARE_SIZE)\n",
        "\t\t\tclicked_col = int(mouseX // SQUARE_SIZE)\n",
        "\n",
        "\t\t\tif available_square( clicked_row, clicked_col ):\n",
        "\n",
        "\t\t\t\tmark_square( clicked_row, clicked_col, player )\n",
        "\t\t\t\tif check_win( player ):\n",
        "\t\t\t\t\tgame_over = True\n",
        "\t\t\t\tplayer = player % 2 + 1\n",
        "\n",
        "\t\t\t\tdraw_figures()\n",
        "\n",
        "\t\tif event.type == pygame.KEYDOWN:\n",
        "\t\t\tif event.key == pygame.K_r:\n",
        "\t\t\t\trestart()\n",
        "\t\t\t\tplayer = 1\n",
        "\t\t\t\tgame_over = False\n",
        "\n",
        "\tpygame.display.update()"
      ],
      "execution_count": null,
      "outputs": [
        {
          "output_type": "error",
          "ename": "ModuleNotFoundError",
          "evalue": "ignored",
          "traceback": [
            "\u001b[0;31m---------------------------------------------------------------------------\u001b[0m",
            "\u001b[0;31mModuleNotFoundError\u001b[0m                       Traceback (most recent call last)",
            "\u001b[0;32m<ipython-input-1-9bb21a5592de>\u001b[0m in \u001b[0;36m<module>\u001b[0;34m()\u001b[0m\n\u001b[1;32m      1\u001b[0m \u001b[0;31m# MODULES\u001b[0m\u001b[0;34m\u001b[0m\u001b[0;34m\u001b[0m\u001b[0;34m\u001b[0m\u001b[0m\n\u001b[0;32m----> 2\u001b[0;31m \u001b[0;32mimport\u001b[0m \u001b[0mpygame\u001b[0m\u001b[0;34m,\u001b[0m \u001b[0msys\u001b[0m\u001b[0;34m\u001b[0m\u001b[0;34m\u001b[0m\u001b[0m\n\u001b[0m\u001b[1;32m      3\u001b[0m \u001b[0;32mimport\u001b[0m \u001b[0mnumpy\u001b[0m \u001b[0;32mas\u001b[0m \u001b[0mnp\u001b[0m\u001b[0;34m\u001b[0m\u001b[0;34m\u001b[0m\u001b[0m\n\u001b[1;32m      4\u001b[0m \u001b[0;34m\u001b[0m\u001b[0m\n\u001b[1;32m      5\u001b[0m \u001b[0;31m# initializes pygame\u001b[0m\u001b[0;34m\u001b[0m\u001b[0;34m\u001b[0m\u001b[0;34m\u001b[0m\u001b[0m\n",
            "\u001b[0;31mModuleNotFoundError\u001b[0m: No module named 'pygame'",
            "",
            "\u001b[0;31m---------------------------------------------------------------------------\u001b[0;32m\nNOTE: If your import is failing due to a missing package, you can\nmanually install dependencies using either !pip or !apt.\n\nTo view examples of installing some common dependencies, click the\n\"Open Examples\" button below.\n\u001b[0;31m---------------------------------------------------------------------------\u001b[0m\n"
          ]
        }
      ]
    },
    {
      "cell_type": "code",
      "metadata": {
        "colab": {
          "base_uri": "https://localhost:8080/"
        },
        "id": "VXeG4RxvQ6QU",
        "outputId": "d00ef07e-721d-497f-e3f2-3bf0cc61cb32"
      },
      "source": [
        "print(\" * TIC TAC TOE GAME * \")\n",
        "\n",
        "# Function to print Tic Tac Toe\n",
        "def print_tic_tac_toe(values):\n",
        "    print(\"\\n\")\n",
        "    print(\"\\t     |     |\")\n",
        "    print(\"\\t  {}  |  {}  |  {}\".format(values[0], values[1], values[2]))\n",
        "    print('\\t_____|_____|_____')\n",
        " \n",
        "    print(\"\\t     |     |\")\n",
        "    print(\"\\t  {}  |  {}  |  {}\".format(values[3], values[4], values[5]))\n",
        "    print('\\t_____|_____|_____')\n",
        " \n",
        "    print(\"\\t     |     |\")\n",
        " \n",
        "    print(\"\\t  {}  |  {}  |  {}\".format(values[6], values[7], values[8]))\n",
        "    print(\"\\t     |     |\")\n",
        "    print(\"\\n\")\n",
        " \n",
        " \n",
        "# Function to print the score-board\n",
        "def print_scoreboard(score_board):\n",
        "    print(\"\\t--------------------------------\")\n",
        "    print(\"\\t              SCOREBOARD       \")\n",
        "    print(\"\\t--------------------------------\")\n",
        " \n",
        "    players = list(score_board.keys())\n",
        "    print(\"\\t   \", players[0], \"\\t    \", score_board[players[0]])\n",
        "    print(\"\\t   \", players[1], \"\\t    \", score_board[players[1]])\n",
        " \n",
        "    print(\"\\t--------------------------------\\n\")\n",
        " \n",
        "# Function to check if any player has won\n",
        "def check_win(player_pos, cur_player):\n",
        " \n",
        "    # All possible winning combinations\n",
        "    soln = [[1, 2, 3], [4, 5, 6], [7, 8, 9], [1, 4, 7], [2, 5, 8], [3, 6, 9], [1, 5, 9], [3, 5, 7]]\n",
        " \n",
        "    # Loop to check if any winning combination is satisfied\n",
        "    for x in soln:\n",
        "        if all(y in player_pos[cur_player] for y in x):\n",
        " \n",
        "            # Return True if any winning combination satisfies\n",
        "            return True\n",
        "    # Return False if no combination is satisfied       \n",
        "    return False        \n",
        " \n",
        "# Function to check if the game is drawn\n",
        "def check_draw(player_pos):\n",
        "    if len(player_pos['X']) + len(player_pos['O']) == 9:\n",
        "        return True\n",
        "    return False        \n",
        " \n",
        "# Function for a single game of Tic Tac Toe\n",
        "def single_game(cur_player):\n",
        " \n",
        "    # Represents the Tic Tac Toe\n",
        "    values = [' ' for x in range(9)]\n",
        "    \n",
        "    # Stores the positions occupied by X and O\n",
        "    player_pos = {'X':[], 'O':[]}\n",
        "    \n",
        "    # Game Loop for a single game of Tic Tac Toe\n",
        "    while True:\n",
        "        print_tic_tac_toe(values)\n",
        "        \n",
        "        # Try exception block for MOVE input\n",
        "        try:\n",
        "            print(\"Player \", cur_player, \" turn. Which box? : \", end=\"\")\n",
        "            move = int(input()) \n",
        "        except ValueError:\n",
        "            print(\"Wrong Input!!! Try Again\")\n",
        "            continue\n",
        " \n",
        "        # Sanity check for MOVE inout\n",
        "        if move < 1 or move > 9:\n",
        "            print(\"Wrong Input!!! Try Again\")\n",
        "            continue\n",
        " \n",
        "        # Check if the box is not occupied already\n",
        "        if values[move-1] != ' ':\n",
        "            print(\"Place already filled. Try again!!\")\n",
        "            continue\n",
        " \n",
        "        # Update game information\n",
        " \n",
        "        # Updating grid status \n",
        "        values[move-1] = cur_player\n",
        " \n",
        "        # Updating player positions\n",
        "        player_pos[cur_player].append(move)\n",
        " \n",
        "        # Function call for checking win\n",
        "        if check_win(player_pos, cur_player):\n",
        "            print_tic_tac_toe(values)\n",
        "            print(\"Player \", cur_player, \" has won the game!!\")     \n",
        "            print(\"\\n\")\n",
        "            return cur_player\n",
        " \n",
        "        # Function call for checking draw game\n",
        "        if check_draw(player_pos):\n",
        "            print_tic_tac_toe(values)\n",
        "            print(\"Game Drawn\")\n",
        "            print(\"\\n\")\n",
        "            return 'D'\n",
        " \n",
        "        # Switch player moves\n",
        "        if cur_player == 'X':\n",
        "            cur_player = 'O'\n",
        "        else:\n",
        "            cur_player = 'X'\n",
        " \n",
        "if __name__ == \"__main__\":\n",
        " \n",
        "    print(\"Player 1\")\n",
        "    player1 = input(\"Enter the name : \")\n",
        "    print(\"\\n\")\n",
        " \n",
        "    print(\"Player 2\")\n",
        "    player2 = input(\"Enter the name : \")\n",
        "    print(\"\\n\")\n",
        "    \n",
        "    # Stores the player who chooses X and O\n",
        "    cur_player = player1\n",
        " \n",
        "    # Stores the choice of players\n",
        "    player_choice = {'X' : \"\", 'O' : \"\"}\n",
        " \n",
        "    # Stores the options\n",
        "    options = ['X', 'O']\n",
        " \n",
        "    # Stores the scoreboard\n",
        "    score_board = {player1: 0, player2: 0}\n",
        "    print_scoreboard(score_board)\n",
        " \n",
        "    # Game Loop for a series of Tic Tac Toe\n",
        "    # The loop runs until the players quit \n",
        "    while True:\n",
        " \n",
        "        # Player choice Menu\n",
        "        print(\"Turn to choose for\", cur_player)\n",
        "        print(\"Enter 1 for X\")\n",
        "        print(\"Enter 2 for O\")\n",
        "        print(\"Enter 3 to Quit\")\n",
        " \n",
        "        # Try exception for CHOICE input\n",
        "        try:\n",
        "            choice = int(input())   \n",
        "        except ValueError:\n",
        "            print(\"Wrong Input!!! Try Again\\n\")\n",
        "            continue\n",
        " \n",
        "        # Conditions for player choice  \n",
        "        if choice == 1:\n",
        "            player_choice['X'] = cur_player\n",
        "            if cur_player == player1:\n",
        "                player_choice['O'] = player2\n",
        "            else:\n",
        "                player_choice['O'] = player1\n",
        " \n",
        "        elif choice == 2:\n",
        "            player_choice['O'] = cur_player\n",
        "            if cur_player == player1:\n",
        "                player_choice['X'] = player2\n",
        "            else:\n",
        "                player_choice['X'] = player1\n",
        "        \n",
        "        elif choice == 3:\n",
        "            print(\"Final Scores\")\n",
        "            print_scoreboard(score_board)\n",
        "            break   \n",
        " \n",
        "        else:\n",
        "            print(\"Wrong Choice!!!! Try Again\\n\")\n",
        " \n",
        "        # Stores the winner in a single game of Tic Tac Toe\n",
        "        winner = single_game(options[choice-1])\n",
        "        \n",
        "        # Edits the scoreboard according to the winner\n",
        "        if winner != 'D' :\n",
        "            player_won = player_choice[winner]\n",
        "            score_board[player_won] = score_board[player_won] + 1\n",
        " \n",
        "        print_scoreboard(score_board)\n",
        "        # Switch player who chooses X or O\n",
        "        if cur_player == player1:\n",
        "            cur_player = player2\n",
        "        else:\n",
        "            cur_player = player1\n",
        "\n",
        "print(\"Game has ended\")            "
      ],
      "execution_count": null,
      "outputs": [
        {
          "output_type": "stream",
          "text": [
            "Player 1\n",
            "Enter the name : ABHIRAM\n",
            "\n",
            "\n",
            "Player 2\n",
            "Enter the name : AJAY\n",
            "\n",
            "\n",
            "\t--------------------------------\n",
            "\t              SCOREBOARD       \n",
            "\t--------------------------------\n",
            "\t    ABHIRAM \t     0\n",
            "\t    AJAY \t     0\n",
            "\t--------------------------------\n",
            "\n",
            "Turn to choose for ABHIRAM\n",
            "Enter 1 for X\n",
            "Enter 2 for O\n",
            "Enter 3 to Quit\n",
            "1\n",
            "\n",
            "\n",
            "\t     |     |\n",
            "\t     |     |   \n",
            "\t_____|_____|_____\n",
            "\t     |     |\n",
            "\t     |     |   \n",
            "\t_____|_____|_____\n",
            "\t     |     |\n",
            "\t     |     |   \n",
            "\t     |     |\n",
            "\n",
            "\n",
            "Player  X  turn. Which box? : 1,1\n",
            "Wrong Input!!! Try Again\n",
            "\n",
            "\n",
            "\t     |     |\n",
            "\t     |     |   \n",
            "\t_____|_____|_____\n",
            "\t     |     |\n",
            "\t     |     |   \n",
            "\t_____|_____|_____\n",
            "\t     |     |\n",
            "\t     |     |   \n",
            "\t     |     |\n",
            "\n",
            "\n",
            "Player  X  turn. Which box? : 2\n",
            "\n",
            "\n",
            "\t     |     |\n",
            "\t     |  X  |   \n",
            "\t_____|_____|_____\n",
            "\t     |     |\n",
            "\t     |     |   \n",
            "\t_____|_____|_____\n",
            "\t     |     |\n",
            "\t     |     |   \n",
            "\t     |     |\n",
            "\n",
            "\n",
            "Player  O  turn. Which box? : 9\n",
            "\n",
            "\n",
            "\t     |     |\n",
            "\t     |  X  |   \n",
            "\t_____|_____|_____\n",
            "\t     |     |\n",
            "\t     |     |   \n",
            "\t_____|_____|_____\n",
            "\t     |     |\n",
            "\t     |     |  O\n",
            "\t     |     |\n",
            "\n",
            "\n",
            "Player  X  turn. Which box? : 5\n",
            "\n",
            "\n",
            "\t     |     |\n",
            "\t     |  X  |   \n",
            "\t_____|_____|_____\n",
            "\t     |     |\n",
            "\t     |  X  |   \n",
            "\t_____|_____|_____\n",
            "\t     |     |\n",
            "\t     |     |  O\n",
            "\t     |     |\n",
            "\n",
            "\n",
            "Player  O  turn. Which box? : 8\n",
            "\n",
            "\n",
            "\t     |     |\n",
            "\t     |  X  |   \n",
            "\t_____|_____|_____\n",
            "\t     |     |\n",
            "\t     |  X  |   \n",
            "\t_____|_____|_____\n",
            "\t     |     |\n",
            "\t     |  O  |  O\n",
            "\t     |     |\n",
            "\n",
            "\n",
            "Player  X  turn. Which box? : 7\n",
            "\n",
            "\n",
            "\t     |     |\n",
            "\t     |  X  |   \n",
            "\t_____|_____|_____\n",
            "\t     |     |\n",
            "\t     |  X  |   \n",
            "\t_____|_____|_____\n",
            "\t     |     |\n",
            "\t  X  |  O  |  O\n",
            "\t     |     |\n",
            "\n",
            "\n",
            "Player  O  turn. Which box? : 6\n",
            "\n",
            "\n",
            "\t     |     |\n",
            "\t     |  X  |   \n",
            "\t_____|_____|_____\n",
            "\t     |     |\n",
            "\t     |  X  |  O\n",
            "\t_____|_____|_____\n",
            "\t     |     |\n",
            "\t  X  |  O  |  O\n",
            "\t     |     |\n",
            "\n",
            "\n",
            "Player  X  turn. Which box? : 3\n",
            "\n",
            "\n",
            "\t     |     |\n",
            "\t     |  X  |  X\n",
            "\t_____|_____|_____\n",
            "\t     |     |\n",
            "\t     |  X  |  O\n",
            "\t_____|_____|_____\n",
            "\t     |     |\n",
            "\t  X  |  O  |  O\n",
            "\t     |     |\n",
            "\n",
            "\n",
            "Player  X  has won the game!!\n",
            "\n",
            "\n",
            "\t--------------------------------\n",
            "\t              SCOREBOARD       \n",
            "\t--------------------------------\n",
            "\t    ABHIRAM \t     1\n",
            "\t    AJAY \t     0\n",
            "\t--------------------------------\n",
            "\n",
            "Turn to choose for AJAY\n",
            "Enter 1 for X\n",
            "Enter 2 for O\n",
            "Enter 3 to Quit\n",
            "3\n",
            "Final Scores\n",
            "\t--------------------------------\n",
            "\t              SCOREBOARD       \n",
            "\t--------------------------------\n",
            "\t    ABHIRAM \t     1\n",
            "\t    AJAY \t     0\n",
            "\t--------------------------------\n",
            "\n"
          ],
          "name": "stdout"
        }
      ]
    }
  ]
}