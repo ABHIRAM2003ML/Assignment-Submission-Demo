{
  "nbformat": 4,
  "nbformat_minor": 0,
  "metadata": {
    "colab": {
      "name": "PythonZeroToHero.ipynb",
      "provenance": [],
      "collapsed_sections": [],
      "authorship_tag": "ABX9TyOROfbqDPd9MKz/wT/AdayR",
      "include_colab_link": true
    },
    "kernelspec": {
      "name": "python3",
      "display_name": "Python 3"
    },
    "language_info": {
      "name": "python"
    }
  },
  "cells": [
    {
      "cell_type": "markdown",
      "metadata": {
        "id": "view-in-github",
        "colab_type": "text"
      },
      "source": [
        "<a href=\"https://colab.research.google.com/github/ABHIRAM2003ML/Assignment-Submission-Demo/blob/main/PythonZeroToHero.ipynb\" target=\"_parent\"><img src=\"https://colab.research.google.com/assets/colab-badge.svg\" alt=\"Open In Colab\"/></a>"
      ]
    },
    {
      "cell_type": "markdown",
      "metadata": {
        "id": "_0GBTYD6U0mT"
      },
      "source": [
        "# PYTHON ZERO TO HERO "
      ]
    },
    {
      "cell_type": "markdown",
      "metadata": {
        "id": "ePaKBmNDU7kt"
      },
      "source": [
        "***BY SUBRAT KUMAR SWAIN SIR***"
      ]
    },
    {
      "cell_type": "markdown",
      "metadata": {
        "id": "Z7wwIlEMVDKc"
      },
      "source": [
        "# ASSIGNMENT FOR DAY - 1 (27th JULY)"
      ]
    },
    {
      "cell_type": "code",
      "metadata": {
        "id": "8vTBl7wWUu4w"
      },
      "source": [
        "# Question 1\n",
        "# Take input for a list and sort it in descending order."
      ],
      "execution_count": null,
      "outputs": []
    },
    {
      "cell_type": "code",
      "metadata": {
        "colab": {
          "base_uri": "https://localhost:8080/"
        },
        "id": "kv5yga97m4iw",
        "outputId": "caa14516-db00-407d-831f-10579f04a550"
      },
      "source": [
        "x = input('Enter values: ')\n",
        "print(type(x))\n",
        "\n",
        "val = [int(i) for i in x.split()]\n",
        "\n",
        "val.reverse()\n",
        "print(val)\n",
        "\n",
        "print(type(val))"
      ],
      "execution_count": null,
      "outputs": [
        {
          "output_type": "stream",
          "text": [
            "Enter values: 10 20 30 40 50 60 70\n",
            "<class 'str'>\n",
            "[70, 60, 50, 40, 30, 20, 10]\n",
            "<class 'list'>\n"
          ],
          "name": "stdout"
        }
      ]
    },
    {
      "cell_type": "markdown",
      "metadata": {
        "id": "vC4NgxTneXo8"
      },
      "source": [
        "# ASSIGNMENT FOR DAY - 2 (28th JULY)"
      ]
    },
    {
      "cell_type": "code",
      "metadata": {
        "id": "dJIG3t-AehM7"
      },
      "source": [
        "# Question 1\n",
        "# Delete all occurrences of an element in a list"
      ],
      "execution_count": null,
      "outputs": []
    },
    {
      "cell_type": "code",
      "metadata": {
        "colab": {
          "base_uri": "https://localhost:8080/"
        },
        "id": "Isx1SulLe1RB",
        "outputId": "6e8abe46-c94a-4f18-989a-62179dd62ebd"
      },
      "source": [
        "numbers = [1, 2, 3, 2, 2, 2, 5]\n",
        "\n",
        "val = int(input(\"Enter the number to delete from the list: \"))\n",
        "\n",
        "# Here i removed the occurance of the element \"2\" from the numbers list\n",
        "\n",
        "while val in numbers:\n",
        "    numbers.remove(val)\n",
        "\n",
        "print(numbers)\n",
        "\n",
        "for val in numbers:\n",
        "  numbers.count(val) \n",
        "\n",
        "print(numbers)"
      ],
      "execution_count": null,
      "outputs": [
        {
          "output_type": "stream",
          "text": [
            "Enter the number to delete from the list: 2\n",
            "[1, 3, 5]\n",
            "[1, 3, 5]\n"
          ],
          "name": "stdout"
        }
      ]
    },
    {
      "cell_type": "code",
      "metadata": {
        "colab": {
          "base_uri": "https://localhost:8080/"
        },
        "id": "8bAoQ8ubjesv",
        "outputId": "0d3c3318-4c39-4b3a-c0e6-b71462ad9d9f"
      },
      "source": [
        "import string\n",
        "print(string.ascii_letters)\n",
        "print(string.digits)"
      ],
      "execution_count": null,
      "outputs": [
        {
          "output_type": "stream",
          "text": [
            "abcdefghijklmnopqrstuvwxyzABCDEFGHIJKLMNOPQRSTUVWXYZ\n",
            "0123456789\n"
          ],
          "name": "stdout"
        }
      ]
    },
    {
      "cell_type": "code",
      "metadata": {
        "colab": {
          "base_uri": "https://localhost:8080/"
        },
        "id": "OLR3aeP0i5_B",
        "outputId": "00b2fe86-a5a4-4577-a5c1-182e215f0e38"
      },
      "source": [
        "print(\"*** OTP GENERATOR ***\")\n",
        "\n",
        "# Let's generate a 6 character OTP\n",
        "import random as r\n",
        "import string\n",
        "\n",
        "length = 8\n",
        "otp = ''\n",
        "\n",
        "characters = string.ascii_letters + string.digits\n",
        "print(characters)\n",
        "\n",
        "for i in range(length):\n",
        "  otp = otp + r.choice(characters)\n",
        "\n",
        "print(\"OTP for the response: \", otp)"
      ],
      "execution_count": null,
      "outputs": [
        {
          "output_type": "stream",
          "text": [
            "*** OTP GENERATOR ***\n",
            "abcdefghijklmnopqrstuvwxyzABCDEFGHIJKLMNOPQRSTUVWXYZ0123456789\n",
            "OTP for the response:  KsAQn81n\n"
          ],
          "name": "stdout"
        }
      ]
    },
    {
      "cell_type": "code",
      "metadata": {
        "id": "6FN4Jb6oes3o"
      },
      "source": [
        "# Question 2\n",
        "# Check whether a string is a pangram."
      ],
      "execution_count": null,
      "outputs": []
    },
    {
      "cell_type": "code",
      "metadata": {
        "id": "juTHP7nAhoxR"
      },
      "source": [
        "import string\n",
        "  \n",
        "def ispangram(str):\n",
        "    alphabet = \"abcdefghijklmnopqrstuvwxyz\"\n",
        "    for char in alphabet:\n",
        "        if char not in str.lower():\n",
        "            return False\n",
        "  \n",
        "    return True"
      ],
      "execution_count": null,
      "outputs": []
    },
    {
      "cell_type": "code",
      "metadata": {
        "colab": {
          "base_uri": "https://localhost:8080/"
        },
        "id": "gnQCMNOdiPC1",
        "outputId": "e3fb5a54-4944-4412-d07a-8fc553addaae"
      },
      "source": [
        "# Code used to find the string whether string is pangram or not\n",
        "\n",
        "string = input(\"Enter the sentence needed to be checked whether the strings in it are pangram or not: \")\n",
        "if(ispangram(string) == True):\n",
        "    print(\"Yes\")\n",
        "else:\n",
        "    print(\"No\")"
      ],
      "execution_count": null,
      "outputs": [
        {
          "output_type": "stream",
          "text": [
            "Enter the sentence needed to be checked whether the strings in it are pangram or not: The quick brown fox jumps over the lazy dog\n",
            "Yes\n"
          ],
          "name": "stdout"
        }
      ]
    },
    {
      "cell_type": "markdown",
      "metadata": {
        "id": "dA7dxrLuqNMC"
      },
      "source": [
        "# ASSIGNMENT FOR DAY - 3 (29th JULY)"
      ]
    },
    {
      "cell_type": "code",
      "metadata": {
        "id": "JGT-KEKyqUi3"
      },
      "source": [
        "# Question 1\n",
        "# Take input for the gift_presented_to[] list and\n",
        "#  print its respective gift_received_from[] list."
      ],
      "execution_count": null,
      "outputs": []
    },
    {
      "cell_type": "code",
      "metadata": {
        "colab": {
          "base_uri": "https://localhost:8080/"
        },
        "id": "z8sQQ_6o7Pfo",
        "outputId": "17b6e09b-4ca7-4a13-8ed0-f918fc1c0971"
      },
      "source": [
        "x = input('gift_presented_to: ')\n",
        "val = [int(i) for i in x.split()]\n",
        "print(val)\n",
        "\n",
        "gift_received_from = [2, 1, 4, 5, 3]\n",
        "\n",
        "for i in range(len(val)):\n",
        "  print(\"Person P\" + str(val[i])  + \" has received gift from Person P\" + str(gift_received_from[i]))"
      ],
      "execution_count": null,
      "outputs": [
        {
          "output_type": "stream",
          "text": [
            "gift_presented_to: 2 1 5 3 4 \n",
            "[2, 1, 5, 3, 4]\n",
            "Person P2 has received gift from Person P2\n",
            "Person P1 has received gift from Person P1\n",
            "Person P5 has received gift from Person P4\n",
            "Person P3 has received gift from Person P5\n",
            "Person P4 has received gift from Person P3\n"
          ],
          "name": "stdout"
        }
      ]
    },
    {
      "cell_type": "markdown",
      "metadata": {
        "id": "tD3RX2m9BexJ"
      },
      "source": [
        "# TEMPERATURE CONVERTER PROJECT"
      ]
    },
    {
      "cell_type": "markdown",
      "metadata": {
        "id": "vD0zHd8AHGJB"
      },
      "source": [
        "***BY SAI KIRAN SIR***"
      ]
    },
    {
      "cell_type": "markdown",
      "metadata": {
        "id": "gcbHZyH0AIod"
      },
      "source": [
        "As we studied in School that the tempeartures are of totally 5 types which are of :\n",
        "1. Celsius or Centigrade\n",
        "2. Kelvin\n",
        "3. Farhenheit\n",
        "4. Rankin scale (Not used mostly )"
      ]
    },
    {
      "cell_type": "markdown",
      "metadata": {
        "id": "zsQALI1ACEiu"
      },
      "source": [
        "So i thought to make for all 3 types but we need 6 elif codes to make it so i made it."
      ]
    },
    {
      "cell_type": "code",
      "metadata": {
        "colab": {
          "base_uri": "https://localhost:8080/"
        },
        "id": "TXykMyn88aZF",
        "outputId": "e77c0b61-70ad-4ada-e1da-e61f982e34d0"
      },
      "source": [
        "print(\"\\t--------------------------------\")\n",
        "print(\" \\t  ***TEMPERATURE CONVERTER*** \")\n",
        "print(\"\\t--------------------------------\")\n",
        "\n",
        "print(\"Choose from below options: \")\n",
        "print(\"1.Celsius to Fahrenheit.\")\n",
        "print(\"2.Fahrenheit to Celsius.\")\n",
        "print(\"3.Celsius to Kelvins\")\n",
        "print(\"4.Kelvins to Celsius\")\n",
        "print(\"5.Farhenheit to Kelvins\")\n",
        "print(\"6.Kelvins to Farhenheit\")\n",
        "\n",
        "o=int(input(\"option(1/2/3/4/5/6): \"))\n",
        "if(o==1):\n",
        "    c = float(input(\"Temperature in Celsius:\"))\n",
        "    f = 1.8*(c) + 32.0\n",
        "    f = round(f,1) #temperature in fahrenheit precise to 1 decimal place\n",
        "    print(\"Temperature in Fahrenheit: \",f)\n",
        "\n",
        "elif(o==2):\n",
        "    f = float(input(\"Temperature in Fahrenheit:\"))\n",
        "    c = (f-32)/1.8\n",
        "    c = round(c,1) #temperature in celsius precise to 1 decimal place\n",
        "    print(\"Temperature in Celsius: \",c)\n",
        "\n",
        "elif(o==3):\n",
        "    c = float(input(\"Temperature in Celsius:\"))\n",
        "    k = c + 273.15\n",
        "    k = round(k,1) #temperature in Kelvins precise to 1 decimal place\n",
        "    print(\"Temperature in Kelvins: \",k)\n",
        "\n",
        "elif(o==4):\n",
        "    k = float(input(\"Temperature in Kelvins:\"))\n",
        "    c = k - 273.15\n",
        "    c = round(c,1) #temperature in Celsius precise to 1 decimal place\n",
        "    print(\"Temperature in Celsius: \",c)  \n",
        "\n",
        "elif(o==5):\n",
        "    f = float(input(\"Temperature in Fahrenheit:\"))\n",
        "    k = (f-32)/1.8 + 273.15\n",
        "    k = round(k,1) #temperature in Kelvins precise to 1 decimal place\n",
        "    print(\"Temperature in Kelvins: \",k)    \n",
        "\n",
        "elif(o==6):\n",
        "    k = float(input(\"Temperature in Kelvins:\"))\n",
        "    f = (k - 273.15)*1.8 + 32\n",
        "    f = round(f,1) #temperature in Farhenheit precise to 1 decimal place\n",
        "    print(\"Temperature in Farhenheit: \",f)    \n",
        "\n",
        "else:\n",
        "    print(\"Choose the number given above as it is out of the list\") "
      ],
      "execution_count": 21,
      "outputs": [
        {
          "output_type": "stream",
          "text": [
            "\t--------------------------------\n",
            " \t***TEMPERATURE CONVERTER*** \n",
            "\t--------------------------------\n",
            "Choose from below options: \n",
            "1.Celsius to Fahrenheit.\n",
            "2.Fahrenheit to Celsius.\n",
            "3.Celsius to Kelvins\n",
            "4.Kelvins to Celsius\n",
            "5.Farhenheit to Kelvins\n",
            "6.Kelvins to Farhenheit\n",
            "option(1/2/3/4/5/6): 6\n",
            "Temperature in Kelvins:300\n",
            "Temperature in Farhenheit:  80.6\n"
          ],
          "name": "stdout"
        }
      ]
    }
  ]
}